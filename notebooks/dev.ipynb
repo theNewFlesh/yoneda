{
 "cells": [
  {
   "cell_type": "code",
   "execution_count": 2,
   "id": "aafcbfc1-18eb-443e-a589-bfc75c87cd30",
   "metadata": {
    "tags": []
   },
   "outputs": [
    {
     "name": "stdout",
     "output_type": "stream",
     "text": [
      "/home/ubuntu/yoneda/python\n"
     ]
    }
   ],
   "source": [
    "%cd /home/ubuntu/yoneda/python\n",
    "\n",
    "import math\n",
    "from importlib import reload\n",
    "from dataclasses import dataclass\n",
    "\n",
    "import lunchbox.tools as lbt\n",
    "from lunchbox.enforce import EnforceError\n",
    "import pandas as pd\n",
    "import numpy as np\n",
    "\n",
    "from yoneda.monad import *\n",
    "from yoneda.df_monad import *\n",
    "from yoneda.s_monad import *"
   ]
  },
  {
   "cell_type": "code",
   "execution_count": 3,
   "id": "ca61e0c1-9a69-48c6-9679-60f1a1764aa8",
   "metadata": {
    "tags": []
   },
   "outputs": [
    {
     "data": {
      "text/plain": [
       "True"
      ]
     },
     "execution_count": 3,
     "metadata": {},
     "output_type": "execute_result"
    }
   ],
   "source": [
    "d = Monad.wrap(1)\n",
    "# d = DataMonad(data=1)\n",
    "\n",
    "@dataclass(eq=True, order=True, unsafe_hash=True, frozen=True)\n",
    "class DataMonad(Monad):\n",
    "    data: Any\n",
    "    \n",
    "a = DataMonad(10)\n",
    "b = DataMonad(9)\n",
    "a > b"
   ]
  },
  {
   "cell_type": "code",
   "execution_count": 17,
   "id": "ce9c9e6d-e2e5-4dea-bf12-d9b42f041b9c",
   "metadata": {
    "tags": []
   },
   "outputs": [
    {
     "data": {
      "text/plain": [
       "Monad(Failure(unsupported operand type(s) for +: 'int' and 'str'))"
      ]
     },
     "execution_count": 17,
     "metadata": {},
     "output_type": "execute_result"
    }
   ],
   "source": [
    "class Try(Monad):\n",
    "    @classmethod\n",
    "    def success(cls, value):\n",
    "        # type: (Any) -> Try\n",
    "        return cls(value)\n",
    "    \n",
    "    @classmethod\n",
    "    def failure(cls, error):\n",
    "        # type: (Exception) -> Try\n",
    "        return cls(error)\n",
    "\n",
    "    def __repr__(self):\n",
    "        return f'{self.state.capitalize()}({self._data})'\n",
    "    \n",
    "    @property\n",
    "    def state(self):\n",
    "        if isinstance(self._data, Exception):\n",
    "            return 'failure'\n",
    "        return 'success'\n",
    "\n",
    "    def fmap(self, func):\n",
    "        # type: (Callable[[A], B]) -> Monad[B]\n",
    "        return try_(self, func)\n",
    "    \n",
    "#     @classmethod\n",
    "#     def _try(cls, monad, method, func):\n",
    "#         data = try_(func, *args, **kwargs)\n",
    "#         if isinstance(data, Exception):\n",
    "#             return self.fail(data)\n",
    "#         return self.wrap(data)\n",
    "    \n",
    "#     def bind(self, func):\n",
    "#         return self._try(self, bind, func)\n",
    "\n",
    "#     def fmap(self, func):\n",
    "#         return self._try(self, fmap, func)\n",
    "\n",
    "# Try.wrap(1).fmap(lambda x: x + 'a')\n",
    "# Try.wrap(1).fmap(lambda x: x + 1)\n",
    "# Try.wrap(1).wrap(Monad).fmap(lambda x: x + 'a')\n",
    "# Monad.wrap(1).bind(Try.wrap).fmap(lambda x: x + 'a')\n",
    "Try.wrap(Monad.wrap(1)).fmap(lambda x: x + 'a')\n",
    "Monad.wrap(Try.wrap(1).fmap(lambda x: x + 'a'))"
   ]
  },
  {
   "cell_type": "code",
   "execution_count": 139,
   "id": "b41d4683-2886-423b-a3ec-bb9941227522",
   "metadata": {
    "tags": []
   },
   "outputs": [],
   "source": [
    "class Maybe(Try):\n",
    "    @classmethod\n",
    "    def just(cls, value):\n",
    "        return cls(value)\n",
    "    \n",
    "    @classmethod\n",
    "    def nothing(cls, value=None):\n",
    "        return cls(value)\n",
    "    \n",
    "    @property\n",
    "    def state(self):\n",
    "        data = self._data\n",
    "        if data is None or pd.isna(data):\n",
    "            return 'nothing'\n",
    "        return super().state\n",
    "    \n",
    "    @classmethod\n",
    "    def _try(cls, monad, method, func):\n",
    "        if monad.state == 'nothing':\n",
    "            return cls.nothing(monad.unwrap())\n",
    "        return super()._try(monad, method, func)"
   ]
  },
  {
   "cell_type": "code",
   "execution_count": 140,
   "id": "25b5c6a5-b1ee-4fbf-af49-e6621aaf9f19",
   "metadata": {
    "tags": []
   },
   "outputs": [
    {
     "ename": "TypeError",
     "evalue": "Maybe._try() takes 3 positional arguments but 4 were given",
     "output_type": "error",
     "traceback": [
      "\u001b[0;31m---------------------------------------------------------------------------\u001b[0m",
      "\u001b[0;31mTypeError\u001b[0m                                 Traceback (most recent call last)",
      "Cell \u001b[0;32mIn[140], line 1\u001b[0m\n\u001b[0;32m----> 1\u001b[0m \u001b[38;5;28mprint\u001b[39m( \u001b[43mMaybe\u001b[49m\u001b[38;5;241;43m.\u001b[39;49m\u001b[43mwrap\u001b[49m\u001b[43m(\u001b[49m\u001b[38;5;28;43;01mNone\u001b[39;49;00m\u001b[43m)\u001b[49m\u001b[38;5;241;43m.\u001b[39;49m\u001b[43mbind\u001b[49m\u001b[43m(\u001b[49m\u001b[43mTry\u001b[49m\u001b[43m)\u001b[49m\u001b[38;5;241m.\u001b[39m\u001b[38;5;18m__class__\u001b[39m )\n\u001b[1;32m      2\u001b[0m \u001b[38;5;28mprint\u001b[39m( Try\u001b[38;5;241m.\u001b[39mwrap(\u001b[38;5;28;01mNone\u001b[39;00m)\u001b[38;5;241m.\u001b[39mbind(Maybe)\u001b[38;5;241m.\u001b[39m\u001b[38;5;18m__class__\u001b[39m )\n",
      "Cell \u001b[0;32mIn[138], line 28\u001b[0m, in \u001b[0;36mTry.bind\u001b[0;34m(self, func)\u001b[0m\n\u001b[1;32m     27\u001b[0m \u001b[38;5;28;01mdef\u001b[39;00m \u001b[38;5;21mbind\u001b[39m(\u001b[38;5;28mself\u001b[39m, func):\n\u001b[0;32m---> 28\u001b[0m     \u001b[38;5;28;01mreturn\u001b[39;00m \u001b[38;5;28;43mself\u001b[39;49m\u001b[38;5;241;43m.\u001b[39;49m\u001b[43m_try\u001b[49m\u001b[43m(\u001b[49m\u001b[38;5;28;43mself\u001b[39;49m\u001b[43m,\u001b[49m\u001b[43m \u001b[49m\u001b[43mbind\u001b[49m\u001b[43m,\u001b[49m\u001b[43m \u001b[49m\u001b[43mfunc\u001b[49m\u001b[43m)\u001b[49m\n",
      "\u001b[0;31mTypeError\u001b[0m: Maybe._try() takes 3 positional arguments but 4 were given"
     ]
    }
   ],
   "source": [
    "print( Maybe.wrap(None).bind(Try).__class__ )\n",
    "print( Try.wrap(None).bind(Maybe).__class__ )"
   ]
  },
  {
   "cell_type": "code",
   "execution_count": 16,
   "id": "4ef87181-2a59-43eb-bdf7-ef0575fb43d3",
   "metadata": {
    "tags": []
   },
   "outputs": [
    {
     "data": {
      "text/plain": [
       "Vertex([2, 3, 1])"
      ]
     },
     "execution_count": 16,
     "metadata": {},
     "output_type": "execute_result"
    }
   ],
   "source": [
    "class Vertex(sgm.Monad):\n",
    "    def __init__(self, data):\n",
    "        super().__init__(data)\n",
    "        self.validate()\n",
    "    \n",
    "    def validate(self):\n",
    "        data = self._data\n",
    "        assert len(data) == 3\n",
    "        for i in data:\n",
    "            assert type(i) in [int, float]\n",
    "\n",
    "v = Vertex.wrap([2, 3, 1])\n",
    "v"
   ]
  },
  {
   "cell_type": "code",
   "execution_count": null,
   "id": "1b4f1ecc-d09d-4021-b715-61d5222f4863",
   "metadata": {},
   "outputs": [],
   "source": []
  }
 ],
 "metadata": {
  "kernelspec": {
   "display_name": "Python 3 (ipykernel)",
   "language": "python",
   "name": "python3"
  },
  "language_info": {
   "codemirror_mode": {
    "name": "ipython",
    "version": 3
   },
   "file_extension": ".py",
   "mimetype": "text/x-python",
   "name": "python",
   "nbconvert_exporter": "python",
   "pygments_lexer": "ipython3",
   "version": "3.10.6"
  }
 },
 "nbformat": 4,
 "nbformat_minor": 5
}
